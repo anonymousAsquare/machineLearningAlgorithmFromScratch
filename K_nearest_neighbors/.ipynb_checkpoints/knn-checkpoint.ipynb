{
 "cells": [
  {
   "cell_type": "markdown",
   "id": "ab356504",
   "metadata": {},
   "source": [
    "Introduction\n",
    "\n",
    "K-nearest neighbors (KNN) is a type of supervised learning algorithm used for both regression and classification. KNN tries to predict the correct class for the test data by calculating the distance between the test data and all the training points. Then select the K number of points which is closet to the test data. The KNN algorithm calculates the probability of the test data belonging to the classes of ‘K’ training data and class holds the highest probability will be selected. In the case of regression, the value is the mean of the ‘K’ selected training points.\n",
    "https://medium.com/swlh/k-nearest-neighbor-ca2593d7a3c4\n",
    "\n",
    "###### Read more\n",
    "https://towardsdatascience.com/machine-learning-basics-with-the-k-nearest-neighbors-algorithm-6a6e71d01761"
   ]
  },
  {
   "cell_type": "markdown",
   "id": "7bdb65b8",
   "metadata": {},
   "source": [
    "# K Nearest Neighbors Algorithm from scratch (without numpy)\n",
    "##### Note: I wrote all the algorithms used from scratch without using numpy, so the k nearest algorithm is very slow in predicting   "
   ]
  },
  {
   "cell_type": "markdown",
   "id": "19702f37",
   "metadata": {},
   "source": [
    "#### Writing a function that takes in two points and calculates the Uclidean distance and returns the value"
   ]
  },
  {
   "cell_type": "code",
   "execution_count": 1,
   "id": "3cefd889",
   "metadata": {},
   "outputs": [],
   "source": [
    "def uclidean_distance(p1,p2):\n",
    "#     uclidean distace = sqrt(square(x2-x1)+square(y2-y1))\n",
    "#     uD = (((p1[0]-p2[0])**2)+((p1[1]-p2[1])**2))**1/2\n",
    "\n",
    "    p = 0\n",
    "    for i in range(len(p1)):\n",
    "        p += (p1[i]-p2[i])**2\n",
    "    uD = p ** (1/2)\n",
    "#     uclidean distance = (sumation (x2-x1)**2 + (y2-y1)**2 + (z2-z1)**2) ** 1/2\n",
    "    return uD"
   ]
  },
  {
   "cell_type": "markdown",
   "id": "6fa85910",
   "metadata": {},
   "source": [
    "#### Writing a function that takes in a list of values and arrages them from ascending to decending order, returns only the arranged list by defualt but if indexes is set to True it returns the index/positions of the arranged list values in the main list (returns a 2D list if indexes is set to True)"
   ]
  },
  {
   "cell_type": "code",
   "execution_count": 2,
   "id": "50f1b9cc",
   "metadata": {},
   "outputs": [],
   "source": [
    "def ascending_vals(values,num_values = None, indexes = False):\n",
    "    ascending_values = []\n",
    "    ascending_values_idx = []\n",
    "    max_value = values[0]\n",
    "    max_values_idx = 0\n",
    "    \n",
    "    for i in range(len(values)):\n",
    "        if values[i] > max_value:\n",
    "            max_value = values[i]\n",
    "            max_values_idx = i\n",
    "\n",
    "    for i in range(len(values)):\n",
    "        max_val_in_range_idx = max_values_idx\n",
    "        max_val_in_range = max_value\n",
    "        for j in range(len(values)):\n",
    "            if values[j] <= max_val_in_range:\n",
    "                corresponding = False\n",
    "                if max_val_in_range_idx != []:\n",
    "                    for k in range(len(ascending_values_idx)):\n",
    "                        if ascending_values_idx[k] == j:\n",
    "                            corresponding = True\n",
    "\n",
    "                if corresponding == False:\n",
    "                    max_val_in_range = values[j]\n",
    "                    max_val_in_range_idx = j\n",
    "                    \n",
    "        ascending_values.append(max_val_in_range)\n",
    "        ascending_values_idx.append(max_val_in_range_idx)\n",
    "        \n",
    "    if num_values == None:\n",
    "        if indexes == False:\n",
    "            return ascending_values\n",
    "        else:\n",
    "            r = []\n",
    "            r.append(ascending_values)\n",
    "            r.append(ascending_values_idx)\n",
    "            return r\n",
    "    \n",
    "    else:\n",
    "        if indexes == False:\n",
    "            return ascending_values[:num_values]\n",
    "        else:\n",
    "            r = []\n",
    "            r.append(ascending_values[:num_values])\n",
    "            r.append(ascending_values_idx[:num_values])\n",
    "            return r"
   ]
  },
  {
   "cell_type": "code",
   "execution_count": 3,
   "id": "030b2e54",
   "metadata": {},
   "outputs": [],
   "source": [
    "# ascending_vals([2,4,6,5,3,6,7,4,3,2,5], indexes= True)"
   ]
  },
  {
   "cell_type": "code",
   "execution_count": 4,
   "id": "156f02a8",
   "metadata": {},
   "outputs": [],
   "source": [
    "# distances = [2,7,4,6,8,5,2,1,3,4,6,8,9,9,6,5,4,21,4,5,0,1,9]\n",
    "# k = 10\n",
    "# ascending_vals(distances,num_values=k ,indexes= True)"
   ]
  },
  {
   "cell_type": "markdown",
   "id": "08562e98",
   "metadata": {},
   "source": [
    "#### Writing a function that takes a list_X(e.g Distaces) and list_y(its corresponding values) and arrages list_X from ascending to decending order,  returns the arranged list_X and it's corresponding values in a 2D list"
   ]
  },
  {
   "cell_type": "code",
   "execution_count": 5,
   "id": "d418f8c2",
   "metadata": {},
   "outputs": [],
   "source": [
    "def ascending_vals_sort(X,y,num_values = None):\n",
    "    values = X\n",
    "    ascending_values = []\n",
    "    ascending_values_idx = []\n",
    "    ascending_values_y = []\n",
    "    \n",
    "    max_value = values[0]\n",
    "    max_values_idx = 0\n",
    "    max_values_y = y[0]\n",
    "    \n",
    "    for i in range(len(values)):\n",
    "        if values[i] > max_value:\n",
    "            max_value = values[i]\n",
    "            max_values_idx = i\n",
    "            max_values_y = y[i]\n",
    "            \n",
    "    for i in range(len(values)):\n",
    "        max_val_in_range_idx = max_values_idx\n",
    "        max_val_in_range = max_value\n",
    "        max_val_in_range_y = max_values_y\n",
    "        \n",
    "        for j in range(len(values)):\n",
    "            if values[j] <= max_val_in_range:\n",
    "                corresponding = False\n",
    "                if max_val_in_range_idx != []:\n",
    "                    for k in range(len(ascending_values_idx)):\n",
    "                        if ascending_values_idx[k] == j:\n",
    "                            corresponding = True\n",
    "\n",
    "                if corresponding == False:\n",
    "                    max_val_in_range = values[j]\n",
    "                    max_val_in_range_idx = j\n",
    "                    max_val_in_range_y = y[j]\n",
    "                    \n",
    "        ascending_values.append(max_val_in_range)\n",
    "        ascending_values_idx.append(max_val_in_range_idx)\n",
    "        ascending_values_y.append(max_val_in_range_y)\n",
    "        \n",
    "    if num_values == None:\n",
    "        r = []\n",
    "        r.append(ascending_values)\n",
    "        r.append(ascending_values_y)\n",
    "        return r\n",
    "    \n",
    "    else:\n",
    "        r = []\n",
    "        r.append(ascending_values[:num_values])\n",
    "        r.append(ascending_values_y[:num_values])\n",
    "        return r"
   ]
  },
  {
   "cell_type": "code",
   "execution_count": 6,
   "id": "8bb0bea3",
   "metadata": {},
   "outputs": [],
   "source": [
    "# distances = [2,7,4,6,8,5,2,1,3,4]\n",
    "# ys = [1,1,0,1,0,1,0,2,0,2]\n",
    "# k = 10\n",
    "# ascending_vals_sort(distances,ys,num_values=k)"
   ]
  },
  {
   "cell_type": "markdown",
   "id": "6f4c56a2",
   "metadata": {},
   "source": [
    "#### creating a function that takes in a list of values, sorts them and returns the most occuring values and the number of times the value occurs (returns a 2D list) "
   ]
  },
  {
   "cell_type": "code",
   "execution_count": 7,
   "id": "a0993be0",
   "metadata": {},
   "outputs": [],
   "source": [
    "def most_occuring(values):\n",
    "    most_occurs = []\n",
    "    times = []\n",
    "    \n",
    "    most_occurs.append(values[0])\n",
    "    times.append(0)\n",
    "    \n",
    "    for i in range(len(values)):\n",
    "        corresponding = False\n",
    "        for j in range(len(most_occurs)):\n",
    "            if values[i] == most_occurs[j]:\n",
    "                times[j] += 1\n",
    "                corresponding = True\n",
    "        if corresponding == False:\n",
    "            most_occurs.append(values[i])\n",
    "            times.append(1)\n",
    "    \n",
    "    occurs = ascending_vals_sort(times,most_occurs) # I used the asending_vals_sort function HERE!...\n",
    "    most_occurs_n_times = [[],[]]\n",
    "    for i in range(len(occurs[0])-1,-1,-1):\n",
    "        most_occurs_n_times[0].append(occurs[1][i])\n",
    "        most_occurs_n_times[1].append(occurs[0][i])\n",
    "        \n",
    "    return most_occurs_n_times"
   ]
  },
  {
   "cell_type": "code",
   "execution_count": 8,
   "id": "7ec3da28",
   "metadata": {},
   "outputs": [],
   "source": [
    "# most_occuring([1,1,0,0,0,1,1,1,0])"
   ]
  },
  {
   "cell_type": "markdown",
   "id": "d08f86b2",
   "metadata": {},
   "source": [
    "#### creating a function that takes in a 2D list and transposes it (changes the rows to colums and columns to rows), returns the transposed list"
   ]
  },
  {
   "cell_type": "code",
   "execution_count": 9,
   "id": "e50acbc0",
   "metadata": {},
   "outputs": [],
   "source": [
    "def transpose(array):\n",
    "    go = False\n",
    "    try:\n",
    "        array[0][0][0]\n",
    "        return \"Please input a 2D array\"\n",
    "    except:\n",
    "        go = True\n",
    "    \n",
    "    if go == True:\n",
    "        array_transposed = []\n",
    "        try:\n",
    "            if len(array) > 1:\n",
    "                if len(array[0]) == len(array[1]):\n",
    "                    if len(array[0]) > 0:\n",
    "                        try:\n",
    "                            for i in range(len(array[0])):\n",
    "                                array_transposed.append([])\n",
    "                                for j in range(len(array)):\n",
    "                                    array_transposed[i].append(array[j][i])\n",
    "                            return array_transposed\n",
    "                        except:\n",
    "                            return \"Please input a 2D array\"\n",
    "                    \n",
    "                    if len(array[0]) == 0:\n",
    "                        for i in range(len(array[0])):\n",
    "                            array_transposed.append([])\n",
    "                        return array_transposed\n",
    "                    \n",
    "                    if array_transposed != []:\n",
    "                        return array_transposed\n",
    "                else:\n",
    "                    return \"please enter an array of equal size\"\n",
    "            else:\n",
    "                return []\n",
    "        except:\n",
    "            return \"Please input a 2D array\""
   ]
  },
  {
   "cell_type": "markdown",
   "id": "84b31664",
   "metadata": {},
   "source": [
    "#### creating a function that takes a pandas dataFrame and changes to a array(Lol ! ... kinda a fake array because i dont want to use numpy)"
   ]
  },
  {
   "cell_type": "code",
   "execution_count": 10,
   "id": "2790a181",
   "metadata": {},
   "outputs": [],
   "source": [
    "def array(_object):\n",
    "    if str(type(_object)) == \"<class 'pandas.core.frame.DataFrame'>\":\n",
    "        array = []\n",
    "        for i in list(_object):\n",
    "            array.append(list(_object[i]))\n",
    "        return transpose(array) # I used the transposed function HERE!......\n",
    "    \n",
    "    if str(type(_object)) == \"<class 'pandas.core.series.Series'>\":\n",
    "        array = []\n",
    "        for i in list(_object):\n",
    "            array.append(i)\n",
    "        return array"
   ]
  },
  {
   "cell_type": "markdown",
   "id": "d99905b2",
   "metadata": {},
   "source": [
    "#### creating a fucntion to get the shape of any list or array, returns the shape of the object\n",
    "##### Although this function was used in this programe"
   ]
  },
  {
   "cell_type": "code",
   "execution_count": 11,
   "id": "4e8be189",
   "metadata": {},
   "outputs": [],
   "source": [
    "def shape(array):\n",
    "    _shape = []\n",
    "    _shape.append(len(array))\n",
    "    first_element = array[0]\n",
    "    try:\n",
    "        while True:\n",
    "            _shape.append(len(first_element))\n",
    "            first_element = first_element[0]\n",
    "    except:\n",
    "        pass\n",
    "    return _shape"
   ]
  },
  {
   "cell_type": "markdown",
   "id": "dedda73e",
   "metadata": {},
   "source": [
    "#### creating a class that takes two ranges and returns a random value between the range"
   ]
  },
  {
   "cell_type": "code",
   "execution_count": 12,
   "id": "af980504",
   "metadata": {},
   "outputs": [],
   "source": [
    "class _random():\n",
    "    import time\n",
    "    import psutil\n",
    "    def __init__(self):\n",
    "        pass\n",
    "    \n",
    "    def randint(self,low_range,high_range):\n",
    "        t = self.time.time()\n",
    "        seed = str(t)[-7:]\n",
    "        try:\n",
    "            if seed[0] == '.':\n",
    "                seed = int(str(seed[1:])+'534327')\n",
    "            else:\n",
    "                seed = int(str(seed)+'4483242')\n",
    "        except:\n",
    "            seed = 39632749756453634\n",
    "            \n",
    "#         a = int(str(t)[2:-8])\n",
    "        a = 3246686452389445043\n",
    "        mod = int(str(self.psutil.virtual_memory()[3]+657534895432))\n",
    "#         c = int(str(self.psutil.virtual_memory()[1])[-1])\n",
    "        c = 758356374946768679067\n",
    "        randnum = (seed * a + c)%mod\n",
    "        \n",
    "        r = high_range - low_range\n",
    "        \n",
    "        randnum_inRange = int(r * (float(randnum)/mod) + low_range)\n",
    "        \n",
    "        return randnum_inRange"
   ]
  },
  {
   "cell_type": "markdown",
   "id": "e0847341",
   "metadata": {},
   "source": [
    "#### creating a function that takes a dataframe,lists or array data and spilits into train and test data"
   ]
  },
  {
   "cell_type": "code",
   "execution_count": 13,
   "id": "ede993d7",
   "metadata": {},
   "outputs": [],
   "source": [
    "def train_test_split(X,y,test_size,random = True):\n",
    "    randm = _random() # the _random classs was initialized HERE!...\n",
    "    guesses = []\n",
    "    while True:\n",
    "        guess = randm.randint(0,len(X)) # the random class is used HERE!...\n",
    "        corres = False\n",
    "        for i in guesses:\n",
    "            if guess == i:\n",
    "                corres = True\n",
    "        if corres == False:\n",
    "            guesses.append(guess)\n",
    "        if len(guesses) == len(X):\n",
    "            break\n",
    "    tsz = int(len(X) * test_size)\n",
    "    test_idx = guesses[:tsz]\n",
    "    train_idx = guesses[tsz:]\n",
    "    \n",
    "    X_train = X.loc[train_idx]\n",
    "    y_train = y.loc[train_idx]\n",
    "    X_test = X.loc[test_idx]\n",
    "    y_test = y.loc[test_idx]\n",
    "    \n",
    "    return X_train,y_train,X_test,y_test"
   ]
  },
  {
   "cell_type": "markdown",
   "id": "a6fde292",
   "metadata": {},
   "source": [
    "### Creating the K nearest neighbours class"
   ]
  },
  {
   "cell_type": "code",
   "execution_count": 14,
   "id": "be88e325",
   "metadata": {},
   "outputs": [],
   "source": [
    "class Knn():\n",
    "    def __init__(self,k = 5):\n",
    "        self.k = k\n",
    "        \n",
    "    def fit(self,xt,yt):\n",
    "        self.X = xt\n",
    "        self.y = yt\n",
    "    def predict(self,X):\n",
    "        predictions = []\n",
    "        for i in range(len(X)):\n",
    "            values = []\n",
    "            predict = []\n",
    "            for j in range(len(self.X)):\n",
    "                values.append(uclidean_distance(self.X[j],X[i])) # The Uclidean_distance function is used HERE!... \n",
    "                predict.append(self.y[j])\n",
    "            occuring = ascending_vals_sort(values,predict,num_values=self.k)[1] # The ascending_vals_sort function is used HERE!...\n",
    "            predictions.append(most_occuring(occuring)[0][0]) # The most_occuring function is used HERE!...\n",
    "        return predictions\n",
    "\n",
    "    def score(self,X,y):\n",
    "        pred = self.predict(X)\n",
    "        correct = 0\n",
    "        for i,j in zip(pred,y):\n",
    "            if i == j:\n",
    "                correct += 1\n",
    "        _score = correct/len(pred)\n",
    "        return _score"
   ]
  },
  {
   "cell_type": "markdown",
   "id": "72c275ce",
   "metadata": {},
   "source": [
    "#### importing pandas"
   ]
  },
  {
   "cell_type": "code",
   "execution_count": 15,
   "id": "df890830",
   "metadata": {},
   "outputs": [],
   "source": [
    "import pandas as pd"
   ]
  },
  {
   "cell_type": "markdown",
   "id": "1a910922",
   "metadata": {},
   "source": [
    "#### Reading the data ('diabetes.csv') into a pandas DataFrame"
   ]
  },
  {
   "cell_type": "code",
   "execution_count": 16,
   "id": "d4c574c8",
   "metadata": {},
   "outputs": [],
   "source": [
    "df = pd.read_csv(\"diabetes.csv\")"
   ]
  },
  {
   "cell_type": "markdown",
   "id": "7d35f81b",
   "metadata": {},
   "source": [
    "#### viewing the first 5 data"
   ]
  },
  {
   "cell_type": "code",
   "execution_count": 17,
   "id": "e3b5bb9b",
   "metadata": {
    "scrolled": true
   },
   "outputs": [
    {
     "data": {
      "text/html": [
       "<div>\n",
       "<style scoped>\n",
       "    .dataframe tbody tr th:only-of-type {\n",
       "        vertical-align: middle;\n",
       "    }\n",
       "\n",
       "    .dataframe tbody tr th {\n",
       "        vertical-align: top;\n",
       "    }\n",
       "\n",
       "    .dataframe thead th {\n",
       "        text-align: right;\n",
       "    }\n",
       "</style>\n",
       "<table border=\"1\" class=\"dataframe\">\n",
       "  <thead>\n",
       "    <tr style=\"text-align: right;\">\n",
       "      <th></th>\n",
       "      <th>Pregnancies</th>\n",
       "      <th>Glucose</th>\n",
       "      <th>BloodPressure</th>\n",
       "      <th>SkinThickness</th>\n",
       "      <th>Insulin</th>\n",
       "      <th>BMI</th>\n",
       "      <th>DiabetesPedigreeFunction</th>\n",
       "      <th>Age</th>\n",
       "      <th>Outcome</th>\n",
       "    </tr>\n",
       "  </thead>\n",
       "  <tbody>\n",
       "    <tr>\n",
       "      <th>0</th>\n",
       "      <td>6</td>\n",
       "      <td>148</td>\n",
       "      <td>72</td>\n",
       "      <td>35</td>\n",
       "      <td>0</td>\n",
       "      <td>33.6</td>\n",
       "      <td>0.627</td>\n",
       "      <td>50</td>\n",
       "      <td>1</td>\n",
       "    </tr>\n",
       "    <tr>\n",
       "      <th>1</th>\n",
       "      <td>1</td>\n",
       "      <td>85</td>\n",
       "      <td>66</td>\n",
       "      <td>29</td>\n",
       "      <td>0</td>\n",
       "      <td>26.6</td>\n",
       "      <td>0.351</td>\n",
       "      <td>31</td>\n",
       "      <td>0</td>\n",
       "    </tr>\n",
       "    <tr>\n",
       "      <th>2</th>\n",
       "      <td>8</td>\n",
       "      <td>183</td>\n",
       "      <td>64</td>\n",
       "      <td>0</td>\n",
       "      <td>0</td>\n",
       "      <td>23.3</td>\n",
       "      <td>0.672</td>\n",
       "      <td>32</td>\n",
       "      <td>1</td>\n",
       "    </tr>\n",
       "    <tr>\n",
       "      <th>3</th>\n",
       "      <td>1</td>\n",
       "      <td>89</td>\n",
       "      <td>66</td>\n",
       "      <td>23</td>\n",
       "      <td>94</td>\n",
       "      <td>28.1</td>\n",
       "      <td>0.167</td>\n",
       "      <td>21</td>\n",
       "      <td>0</td>\n",
       "    </tr>\n",
       "    <tr>\n",
       "      <th>4</th>\n",
       "      <td>0</td>\n",
       "      <td>137</td>\n",
       "      <td>40</td>\n",
       "      <td>35</td>\n",
       "      <td>168</td>\n",
       "      <td>43.1</td>\n",
       "      <td>2.288</td>\n",
       "      <td>33</td>\n",
       "      <td>1</td>\n",
       "    </tr>\n",
       "  </tbody>\n",
       "</table>\n",
       "</div>"
      ],
      "text/plain": [
       "   Pregnancies  Glucose  BloodPressure  SkinThickness  Insulin   BMI  \\\n",
       "0            6      148             72             35        0  33.6   \n",
       "1            1       85             66             29        0  26.6   \n",
       "2            8      183             64              0        0  23.3   \n",
       "3            1       89             66             23       94  28.1   \n",
       "4            0      137             40             35      168  43.1   \n",
       "\n",
       "   DiabetesPedigreeFunction  Age  Outcome  \n",
       "0                     0.627   50        1  \n",
       "1                     0.351   31        0  \n",
       "2                     0.672   32        1  \n",
       "3                     0.167   21        0  \n",
       "4                     2.288   33        1  "
      ]
     },
     "execution_count": 17,
     "metadata": {},
     "output_type": "execute_result"
    }
   ],
   "source": [
    "df.head()"
   ]
  },
  {
   "cell_type": "markdown",
   "id": "8d7815b7",
   "metadata": {},
   "source": [
    "#### spliting the data into X(independent_values) and y(dependent/target_values)"
   ]
  },
  {
   "cell_type": "code",
   "execution_count": 18,
   "id": "dcbe63df",
   "metadata": {},
   "outputs": [],
   "source": [
    "x = df.drop('Outcome', axis = 1)\n",
    "y = df['Outcome']"
   ]
  },
  {
   "cell_type": "markdown",
   "id": "0c834090",
   "metadata": {},
   "source": [
    "#### spiliting the X and y data into a training and testing data"
   ]
  },
  {
   "cell_type": "code",
   "execution_count": 19,
   "id": "b01a4e32",
   "metadata": {},
   "outputs": [],
   "source": [
    "X_train,y_train,X_test,y_test = train_test_split(x,y,test_size = 0.1) # The train_test_split class is used HERE!..."
   ]
  },
  {
   "cell_type": "markdown",
   "id": "e2103f87",
   "metadata": {},
   "source": [
    "#### changing the pandas DataFrame into my fake array Lol ! ..."
   ]
  },
  {
   "cell_type": "code",
   "execution_count": 20,
   "id": "e8abaada",
   "metadata": {},
   "outputs": [],
   "source": [
    "X_train_a = array(X_train) # The array function is used HERE!...\n",
    "X_test_a = array(X_test) # The array function is used HERE!...\n",
    "y_train_a = array(y_train) # The array function is used HERE!...\n",
    "y_test_a = array(y_test) # The array function is used HERE!..."
   ]
  },
  {
   "cell_type": "code",
   "execution_count": 21,
   "id": "8bd0ce1b",
   "metadata": {},
   "outputs": [],
   "source": [
    "# x = array(x) # The array function is used HERE!...\n",
    "# y = array(y) # The array function is used HERE!..."
   ]
  },
  {
   "cell_type": "markdown",
   "id": "41415c94",
   "metadata": {},
   "source": [
    "### Creating the model using my knn algorthm"
   ]
  },
  {
   "cell_type": "code",
   "execution_count": 22,
   "id": "e36e703e",
   "metadata": {},
   "outputs": [],
   "source": [
    "model = Knn()"
   ]
  },
  {
   "cell_type": "markdown",
   "id": "1c3128b1",
   "metadata": {},
   "source": [
    "### Training the model"
   ]
  },
  {
   "cell_type": "code",
   "execution_count": 23,
   "id": "319c7007",
   "metadata": {},
   "outputs": [],
   "source": [
    "model.fit(X_train_a,y_train_a)"
   ]
  },
  {
   "cell_type": "markdown",
   "id": "41927877",
   "metadata": {},
   "source": [
    "### predicting using the model"
   ]
  },
  {
   "cell_type": "code",
   "execution_count": 24,
   "id": "16970f5e",
   "metadata": {},
   "outputs": [
    {
     "data": {
      "text/plain": [
       "[1, 0, 0, 1, 1]"
      ]
     },
     "execution_count": 24,
     "metadata": {},
     "output_type": "execute_result"
    }
   ],
   "source": [
    "model.predict(X_test_a[:5]) # I'm predicting for only the first 5 values because the model is slow when predicting "
   ]
  },
  {
   "cell_type": "markdown",
   "id": "a46c16ab",
   "metadata": {},
   "source": [
    "##### checking the actual target and comparing it with the predicted targets"
   ]
  },
  {
   "cell_type": "code",
   "execution_count": 25,
   "id": "5beba7f8",
   "metadata": {},
   "outputs": [
    {
     "data": {
      "text/plain": [
       "[1, 0, 0, 1, 0]"
      ]
     },
     "execution_count": 25,
     "metadata": {},
     "output_type": "execute_result"
    }
   ],
   "source": [
    "y_test_a[:5]"
   ]
  },
  {
   "cell_type": "markdown",
   "id": "32ebbe73",
   "metadata": {},
   "source": [
    "##### checking the accuracy of the model on the test data"
   ]
  },
  {
   "cell_type": "code",
   "execution_count": 26,
   "id": "d7f640fb",
   "metadata": {},
   "outputs": [
    {
     "data": {
      "text/plain": [
       "0.8"
      ]
     },
     "execution_count": 26,
     "metadata": {},
     "output_type": "execute_result"
    }
   ],
   "source": [
    "model.score(X_test_a[:5],y_test_a[:5])"
   ]
  },
  {
   "cell_type": "code",
   "execution_count": null,
   "id": "2b431f08",
   "metadata": {},
   "outputs": [],
   "source": []
  },
  {
   "cell_type": "markdown",
   "id": "038711b7",
   "metadata": {},
   "source": [
    "# K Nearest Neighbors Algorithm from scratch (with numpy)"
   ]
  },
  {
   "cell_type": "code",
   "execution_count": 27,
   "id": "8cf7b286",
   "metadata": {},
   "outputs": [],
   "source": [
    "class knn2():\n",
    "    import numpy as np\n",
    "    from collections import Counter\n",
    "    def __init__(self, k = 5):\n",
    "        self.k = k\n",
    "    def _uclideanDistace(self,p1,p2):\n",
    "        np = self.np\n",
    "        ud = np.sqrt(np.sum(np.square(np.subtract(p1,p2)),axis = 1))\n",
    "        return ud\n",
    "    def fit(self,X,y):\n",
    "        self.X = self.np.array(X)\n",
    "        self.y = self.np.array(y)\n",
    "    def predict(self,X):\n",
    "        np = self.np\n",
    "        #creating an empty list to contain the predicted values \n",
    "        pred = []\n",
    "        X = array(X)\n",
    "        for i in range(len(X)):\n",
    "            #calculating for uclidean distance\n",
    "            ud = self._uclideanDistace(X[i],self.X)\n",
    "            #sorting the distances from min to max using np.argsort which returns the index of the sorted values and getting the first k indexes \n",
    "            idx = self.np.argsort(ud)[:self.k]\n",
    "            #getting the predicted values from self.y\n",
    "            pred_y_vals =self.y[idx]\n",
    "            #grtting the most common value using collections.counter \n",
    "            a = self.Counter(pred_y_vals)\n",
    "            b = a.most_common(1)[0][0]\n",
    "            #adding the predicted value to pred (list)\n",
    "            pred.append(b)\n",
    "        \n",
    "        return pred\n",
    "    def score(self,X,y):\n",
    "        np = self.np\n",
    "        x = self.predict(X)\n",
    "        y = np.array(y)\n",
    "        \n",
    "        _score = np.mean(x == y)\n",
    "        return _score"
   ]
  },
  {
   "cell_type": "code",
   "execution_count": 28,
   "id": "ea0db878",
   "metadata": {},
   "outputs": [],
   "source": [
    "model2 = knn2()"
   ]
  },
  {
   "cell_type": "code",
   "execution_count": 29,
   "id": "71d1dc45",
   "metadata": {},
   "outputs": [],
   "source": [
    "model2.fit(X_train,y_train)"
   ]
  },
  {
   "cell_type": "code",
   "execution_count": 30,
   "id": "2db6b3d5",
   "metadata": {},
   "outputs": [
    {
     "data": {
      "text/plain": [
       "[1, 0, 0, 1, 1]"
      ]
     },
     "execution_count": 30,
     "metadata": {},
     "output_type": "execute_result"
    }
   ],
   "source": [
    "model2.predict(X_test)[:5]"
   ]
  },
  {
   "cell_type": "code",
   "execution_count": 31,
   "id": "8fa76144",
   "metadata": {
    "scrolled": true
   },
   "outputs": [
    {
     "data": {
      "text/plain": [
       "128    1\n",
       "587    0\n",
       "756    0\n",
       "635    1\n",
       "223    0\n",
       "Name: Outcome, dtype: int64"
      ]
     },
     "execution_count": 31,
     "metadata": {},
     "output_type": "execute_result"
    }
   ],
   "source": [
    "y_test[:5]"
   ]
  },
  {
   "cell_type": "code",
   "execution_count": 32,
   "id": "c6a99c3d",
   "metadata": {},
   "outputs": [
    {
     "data": {
      "text/plain": [
       "0.8"
      ]
     },
     "execution_count": 32,
     "metadata": {},
     "output_type": "execute_result"
    }
   ],
   "source": [
    "model2.score(X_test[:5],y_test[:5])"
   ]
  },
  {
   "cell_type": "markdown",
   "id": "32ff25c0",
   "metadata": {},
   "source": [
    "# sklearn knn algorithm"
   ]
  },
  {
   "cell_type": "code",
   "execution_count": 33,
   "id": "a5441139",
   "metadata": {},
   "outputs": [
    {
     "name": "stderr",
     "output_type": "stream",
     "text": [
      "C:\\ProgramData\\Anaconda3\\lib\\site-packages\\scipy\\__init__.py:146: UserWarning: A NumPy version >=1.16.5 and <1.23.0 is required for this version of SciPy (detected version 1.24.1\n",
      "  warnings.warn(f\"A NumPy version >={np_minversion} and <{np_maxversion}\"\n"
     ]
    }
   ],
   "source": [
    "from sklearn.neighbors import KNeighborsClassifier"
   ]
  },
  {
   "cell_type": "code",
   "execution_count": 34,
   "id": "f0839666",
   "metadata": {},
   "outputs": [],
   "source": [
    "model3 = KNeighborsClassifier()"
   ]
  },
  {
   "cell_type": "code",
   "execution_count": 35,
   "id": "0a50c5dd",
   "metadata": {},
   "outputs": [
    {
     "data": {
      "text/plain": [
       "KNeighborsClassifier()"
      ]
     },
     "execution_count": 35,
     "metadata": {},
     "output_type": "execute_result"
    }
   ],
   "source": [
    "model3.fit(X_train,y_train)"
   ]
  },
  {
   "cell_type": "code",
   "execution_count": 36,
   "id": "a8e511af",
   "metadata": {},
   "outputs": [
    {
     "data": {
      "text/plain": [
       "array([1, 0, 0, 1, 1], dtype=int64)"
      ]
     },
     "execution_count": 36,
     "metadata": {},
     "output_type": "execute_result"
    }
   ],
   "source": [
    "model3.predict(X_test[:5])"
   ]
  },
  {
   "cell_type": "code",
   "execution_count": 37,
   "id": "7677cedc",
   "metadata": {},
   "outputs": [
    {
     "data": {
      "text/plain": [
       "128    1\n",
       "587    0\n",
       "756    0\n",
       "635    1\n",
       "223    0\n",
       "Name: Outcome, dtype: int64"
      ]
     },
     "execution_count": 37,
     "metadata": {},
     "output_type": "execute_result"
    }
   ],
   "source": [
    "y_test[:5]"
   ]
  },
  {
   "cell_type": "code",
   "execution_count": 38,
   "id": "9b5a1bbc",
   "metadata": {},
   "outputs": [
    {
     "data": {
      "text/plain": [
       "0.8"
      ]
     },
     "execution_count": 38,
     "metadata": {},
     "output_type": "execute_result"
    }
   ],
   "source": [
    "model3.score(X_test[:5],y_test[:5])"
   ]
  }
 ],
 "metadata": {
  "kernelspec": {
   "display_name": "Python 3 (ipykernel)",
   "language": "python",
   "name": "python3"
  },
  "language_info": {
   "codemirror_mode": {
    "name": "ipython",
    "version": 3
   },
   "file_extension": ".py",
   "mimetype": "text/x-python",
   "name": "python",
   "nbconvert_exporter": "python",
   "pygments_lexer": "ipython3",
   "version": "3.9.7"
  }
 },
 "nbformat": 4,
 "nbformat_minor": 5
}
