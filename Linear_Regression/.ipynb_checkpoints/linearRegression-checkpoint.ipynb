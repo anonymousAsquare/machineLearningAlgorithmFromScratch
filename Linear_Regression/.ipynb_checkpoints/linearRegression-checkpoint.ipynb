{
 "cells": [
  {
   "cell_type": "markdown",
   "id": "bb85c1cb",
   "metadata": {},
   "source": [
    "# Linear Regression from scratch"
   ]
  },
  {
   "cell_type": "markdown",
   "id": "de38cd7a",
   "metadata": {},
   "source": [
    "what is Linear Regression?\n",
    "\n",
    "Linear regression is a fundamental technique in machine learning and statistics used for predicting a continuous outcome variable (also called the dependent variable) based on one or more predictor variables (independent variables).  The goal is to find the linear relationship between the independent variables and the dependent variable. It is a Supervised Machine learning algorith(Regression)\n",
    "\n",
    "The equation for a simple linear regression with one independent variable is:\n",
    "\n",
    "y=mx+by=mx+b\n",
    "\n",
    "Here:\n",
    "\n",
    "    y is the dependent variable.\n",
    "    x is the independent variable.\n",
    "    m is the slope of the line.\n",
    "    b is the y-intercept.\n",
    "\n",
    "For multiple linear regression with more than one independent variable, the equation becomes:\n",
    "\n",
    "y=b0+b1x1+b2x2+…+bnxny=b0​+b1​x1​+b2​x2​+…+bn​xn​\n",
    "\n",
    "Here:\n",
    "\n",
    "    y is the dependent variable.\n",
    "    x2,…,xnx1​,x2​,…,xn​ are the independent variables.\n",
    "    b0​ is the y-intercept.\n",
    "    b1​,b2​,…,bn​ are the coefficients associated with each independent variable.\n",
    "\n",
    "The goal of linear regression is to find the values of the coefficients (b0,b1,…,bnb0​,b1​,…,bn​) that minimize the difference between the predicted values and the actual values of the dependent variable. This is often done by minimizing the sum of squared differences, known as the least squares method."
   ]
  },
  {
   "cell_type": "code",
   "execution_count": null,
   "id": "41eb8997",
   "metadata": {},
   "outputs": [],
   "source": []
  },
  {
   "cell_type": "code",
   "execution_count": 1,
   "id": "ca0a4a6d",
   "metadata": {},
   "outputs": [],
   "source": [
    "import pandas as pd\n",
    "import matplotlib.pyplot as plt"
   ]
  },
  {
   "cell_type": "code",
   "execution_count": 2,
   "id": "393b7482",
   "metadata": {},
   "outputs": [
    {
     "data": {
      "text/html": [
       "<div>\n",
       "<style scoped>\n",
       "    .dataframe tbody tr th:only-of-type {\n",
       "        vertical-align: middle;\n",
       "    }\n",
       "\n",
       "    .dataframe tbody tr th {\n",
       "        vertical-align: top;\n",
       "    }\n",
       "\n",
       "    .dataframe thead th {\n",
       "        text-align: right;\n",
       "    }\n",
       "</style>\n",
       "<table border=\"1\" class=\"dataframe\">\n",
       "  <thead>\n",
       "    <tr style=\"text-align: right;\">\n",
       "      <th></th>\n",
       "      <th>year</th>\n",
       "      <th>income</th>\n",
       "    </tr>\n",
       "  </thead>\n",
       "  <tbody>\n",
       "    <tr>\n",
       "      <th>0</th>\n",
       "      <td>1970</td>\n",
       "      <td>3399.299037</td>\n",
       "    </tr>\n",
       "    <tr>\n",
       "      <th>1</th>\n",
       "      <td>1971</td>\n",
       "      <td>3768.297935</td>\n",
       "    </tr>\n",
       "    <tr>\n",
       "      <th>2</th>\n",
       "      <td>1972</td>\n",
       "      <td>4251.175484</td>\n",
       "    </tr>\n",
       "    <tr>\n",
       "      <th>3</th>\n",
       "      <td>1973</td>\n",
       "      <td>4804.463248</td>\n",
       "    </tr>\n",
       "    <tr>\n",
       "      <th>4</th>\n",
       "      <td>1974</td>\n",
       "      <td>5576.514583</td>\n",
       "    </tr>\n",
       "  </tbody>\n",
       "</table>\n",
       "</div>"
      ],
      "text/plain": [
       "   year       income\n",
       "0  1970  3399.299037\n",
       "1  1971  3768.297935\n",
       "2  1972  4251.175484\n",
       "3  1973  4804.463248\n",
       "4  1974  5576.514583"
      ]
     },
     "execution_count": 2,
     "metadata": {},
     "output_type": "execute_result"
    }
   ],
   "source": [
    "data = pd.read_csv(\"canada_per_capita_income.csv\")\n",
    "data.head()"
   ]
  },
  {
   "cell_type": "code",
   "execution_count": 3,
   "id": "6cea71b0",
   "metadata": {},
   "outputs": [],
   "source": [
    "X = list(data[\"year\"])\n",
    "y = list(data[\"income\"])"
   ]
  },
  {
   "cell_type": "code",
   "execution_count": 4,
   "id": "4e25dc0d",
   "metadata": {},
   "outputs": [
    {
     "data": {
      "text/plain": [
       "Text(0, 0.5, 'income')"
      ]
     },
     "execution_count": 4,
     "metadata": {},
     "output_type": "execute_result"
    },
    {
     "data": {
      "image/png": "[encoded data removed]",
      "text/plain": [
       "<Figure size 432x288 with 1 Axes>"
      ]
     },
     "metadata": {
      "needs_background": "light"
     },
     "output_type": "display_data"
    }
   ],
   "source": [
    "plt.scatter(X,y,marker =\"+\", color = 'b')\n",
    "plt.xlabel('year')\n",
    "plt.ylabel('income')"
   ]
  },
  {
   "cell_type": "markdown",
   "id": "f390c504",
   "metadata": {},
   "source": [
    "## Writing Linear Regression algorithm from scratch both with numpy and without numpy"
   ]
  },
  {
   "cell_type": "markdown",
   "id": "ba20e30e",
   "metadata": {},
   "source": [
    "### without numpy"
   ]
  },
  {
   "cell_type": "code",
   "execution_count": 5,
   "id": "72f85692",
   "metadata": {},
   "outputs": [],
   "source": [
    "class LinearRegress():\n",
    "    def __init__(self):\n",
    "        self.coef_ = [] #weights\n",
    "        self.intercept_ = 0 #bias\n",
    "        self.learning_rate = 0.5\n",
    "        self.number_of_features = 0\n",
    "        \n",
    "    def m_init(self,number_of_features):\n",
    "        m = []\n",
    "        for _ in range(number_of_features):\n",
    "            m.append(0)\n",
    "        return m\n",
    "    \n",
    "    def scaling_xy(self,x,y):\n",
    "        x_max = []\n",
    "        x_scaled = []\n",
    "        for i in x:\n",
    "            xi_max = max(i)\n",
    "            x_max.append(xi_max)\n",
    "            xi = []\n",
    "            for j in i:\n",
    "                xi.append(j/xi_max)\n",
    "            x_scaled.append(xi)\n",
    "            \n",
    "        y_scaled = []\n",
    "        y_max = max(y)\n",
    "        for i in y:\n",
    "            y_scaled.append(i/y_max)\n",
    "\n",
    "        return x_scaled,x_max,y_scaled,y_max\n",
    "    \n",
    "    def fit(self,x_train,y_train):\n",
    "        self.number_of_features = len(x_train)\n",
    "        self.coef_ = self.m_init(self.number_of_features) #weights\n",
    "        n = len(x_train[0]) #number of data points\n",
    "        self.intercept_ = 0 #bias\n",
    "        \n",
    "        x_train,x_train_max,y_train,y_train_max = self.scaling_xy(x_train,y_train)\n",
    "        \n",
    "        epoches = 500000\n",
    "        \n",
    "        for _ in range(epoches+1):\n",
    "            try:\n",
    "                #######################################################\n",
    "                ##################### y_predicted #####################\n",
    "                ###################### |mx +b| ########################\n",
    "                y_pred = []\n",
    "                for i in range(n):\n",
    "                    y_p = self.intercept_\n",
    "                    for j in range(self.number_of_features):\n",
    "                        y_p += self.coef_[j] * x_train[j][i]\n",
    "                    y_pred.append(y_p)\n",
    "                #######################################################\n",
    "\n",
    "                ############################################################\n",
    "                ################ MSE(Mean Squared Error) ###################\n",
    "                ########## |1/n*summation[(y - y_predicted)**2]| ###########\n",
    "                se = [] #Squared errors\n",
    "                sse = 0 #sum of squared errors\n",
    "\n",
    "                for i in range(n):\n",
    "                    a = (y_train[i] - y_pred[i])**2\n",
    "                    \n",
    "                    se.append(a)\n",
    "                    sse += a\n",
    "\n",
    "                MSE = 1/n * sse #Mean Squared Error\n",
    "                ############################################################\n",
    "\n",
    "                ############################################################\n",
    "                ################## Gradient Decent #########################\n",
    "\n",
    "                ############# Gradient #########################\n",
    "                gm = [] #gradient for m(weights)\n",
    "                gb = 0 #gradient for b(bias)\n",
    "\n",
    "                m_se = 0 #sum of errors for m(weights)\n",
    "                b_se = 0 #sum of errors for b(bias)\n",
    "\n",
    "\n",
    "                for i in range(self.number_of_features):\n",
    "                    for j in range(n):\n",
    "                        ma = (y_train[j] - y_pred[j]) * x_train[i][j]\n",
    "                        m_se += ma\n",
    "\n",
    "                        ba = (y_train[j] - y_pred[j])\n",
    "                        b_se += ba\n",
    "\n",
    "                    mg = -2/n * m_se\n",
    "                    gm.append(mg)\n",
    "                    m_se = 0\n",
    "\n",
    "                    bg = -2/n * b_se\n",
    "                    gb = bg\n",
    "                    b_se = 0\n",
    "\n",
    "                    self.coef_[i] -= self.learning_rate * mg\n",
    "                self.intercept_ -= self.learning_rate * gb\n",
    "                \n",
    "                mc = []\n",
    "                \n",
    "                #Normalizing the coef and intercept\n",
    "                for i in range(len(self.coef_)):\n",
    "                    mc.append(self.coef_[i] * y_train_max/x_train_max[i])\n",
    "                bi = self.intercept_ * y_train_max\n",
    "                \n",
    "                if _%100000 == 0:\n",
    "                    print(f\"epoch: {_+1}, weight: {mc}, bias: {bi}, MSE: {MSE}, leaning rate: {self.learning_rate}\")\n",
    "\n",
    "            except:\n",
    "                self.learning_rate *= 0.1\n",
    "                self.coef_ = self.m_init(self.number_of_features) #weights\n",
    "                self.intercept_ = 0 #bias\n",
    "\n",
    "        #Normalizing the coef and intercept overall\n",
    "        for i in range(len(self.coef_)):\n",
    "            self.coef_[i] = self.coef_[i] * y_train_max/x_train_max[i]\n",
    "        self.intercept_ = self.intercept_ * y_train_max\n",
    "                \n",
    "    def predict(self,x):\n",
    "        n = len(x[0])\n",
    "        y_pred = []\n",
    "        \n",
    "        for i in range(n):\n",
    "            y_p = self.intercept_\n",
    "            for j in range(self.number_of_features):\n",
    "                y_p += self.coef_[j] * x[j][i]\n",
    "            y_pred.append(y_p)\n",
    "        \n",
    "        return y_pred\n",
    "    \n",
    "    def score(self,x,y):\n",
    "        y_pred = self.predict(x)\n",
    "        y_true = y\n",
    "        \n",
    "        u = []\n",
    "        for i,j in zip(y_true,y_pred):\n",
    "            u.append((i-j)**2)\n",
    "        u = sum(u)\n",
    "        \n",
    "        v = []\n",
    "        for i in y_true:\n",
    "            v.append((i- sum(y_true)/len(y_true))**2)\n",
    "        v = sum(v)\n",
    "        \n",
    "        R = (1 - (u/v))\n",
    "        return R"
   ]
  },
  {
   "cell_type": "code",
   "execution_count": 6,
   "id": "8e726bd8",
   "metadata": {},
   "outputs": [],
   "source": [
    "model1 = LinearRegress()"
   ]
  },
  {
   "cell_type": "code",
   "execution_count": 7,
   "id": "91c90756",
   "metadata": {},
   "outputs": [
    {
     "name": "stdout",
     "output_type": "stream",
     "text": [
      "epoch: 1, weight: [9.31542470287444], bias: 18920.137063404254, MSE: 0.274380254700803, leaning rate: 0.5\n",
      "epoch: 100001, weight: [745.0148100929944], bias: -1465890.5714122946, MSE: 0.009193627386251799, leaning rate: 0.5\n",
      "epoch: 200001, weight: [820.0110637380966], bias: -1615361.5271894077, MSE: 0.008497255916540108, leaning rate: 0.5\n",
      "epoch: 300001, weight: [827.6086332440774], bias: -1630503.829910501, MSE: 0.008490109123675735, leaning rate: 0.5\n",
      "epoch: 400001, weight: [828.3783125226122], bias: -1632037.835834968, MSE: 0.008490035776833644, leaning rate: 0.5\n",
      "epoch: 500001, weight: [828.456285641699], bias: -1632193.2398194121, MSE: 0.00849003502408204, leaning rate: 0.5\n"
     ]
    }
   ],
   "source": [
    "model1.fit([X],y)"
   ]
  },
  {
   "cell_type": "code",
   "execution_count": 8,
   "id": "a10c123c",
   "metadata": {},
   "outputs": [],
   "source": [
    "slope0 = model1.predict([X])"
   ]
  },
  {
   "cell_type": "markdown",
   "id": "cbcd8d7a",
   "metadata": {},
   "source": [
    "#### ploting the slope"
   ]
  },
  {
   "cell_type": "code",
   "execution_count": 9,
   "id": "39f9b365",
   "metadata": {},
   "outputs": [
    {
     "data": {
      "text/plain": [
       "Text(0, 0.5, 'income')"
      ]
     },
     "execution_count": 9,
     "metadata": {},
     "output_type": "execute_result"
    },
    {
     "data": {
      "image/png": "[encoded data removed]",
      "text/plain": [
       "<Figure size 432x288 with 1 Axes>"
      ]
     },
     "metadata": {
      "needs_background": "light"
     },
     "output_type": "display_data"
    }
   ],
   "source": [
    "plt.scatter(X,y,marker =\"+\", color = 'b')\n",
    "plt.plot(X,slope0,color = 'g',linewidth=2)\n",
    "plt.xlabel('year')\n",
    "plt.ylabel('income')"
   ]
  },
  {
   "cell_type": "code",
   "execution_count": 10,
   "id": "b1237537",
   "metadata": {},
   "outputs": [
    {
     "data": {
      "text/plain": [
       "0.8909169178567484"
      ]
     },
     "execution_count": 10,
     "metadata": {},
     "output_type": "execute_result"
    }
   ],
   "source": [
    "accuracy = model1.score([X],y)\n",
    "accuracy"
   ]
  },
  {
   "cell_type": "markdown",
   "id": "712501c1",
   "metadata": {},
   "source": [
    "### Using numpy"
   ]
  },
  {
   "cell_type": "code",
   "execution_count": 11,
   "id": "c997f752",
   "metadata": {},
   "outputs": [],
   "source": [
    "import numpy as np"
   ]
  },
  {
   "cell_type": "code",
   "execution_count": 12,
   "id": "1590ebe3",
   "metadata": {},
   "outputs": [],
   "source": [
    "class LinearReg():\n",
    "    def __init__(self):\n",
    "        self.coef_ = []\n",
    "        self.intercept_ = 0\n",
    "    \n",
    "    def fit(self,X_train,y_train):\n",
    "        x = np.array(X_train)\n",
    "        y = np.array(y_train)\n",
    "        \n",
    "        n = x.shape[0]\n",
    "        \n",
    "        if len(x.shape) < 2:\n",
    "            m = np.zeros(1)\n",
    "            x = x.reshape(-1,1)\n",
    "            x_max = x.max()\n",
    "            \n",
    "        else:\n",
    "            m = np.zeros(x.shape[1])\n",
    "            x_max = x.max(axis =0)\n",
    "        \n",
    "        y_max = y.max()\n",
    "        x = x/x_max\n",
    "        y = y/y_max\n",
    "        \n",
    "        b = 0\n",
    "        learning_rate = 0.5\n",
    "        \n",
    "        epoches = 500000\n",
    "        \n",
    "        for _ in range(epoches):\n",
    "            try:\n",
    "                y_pred = np.dot(m,x.T) +b\n",
    "\n",
    "                MSE = np.mean(np.square(y-y_pred))\n",
    "\n",
    "                gradient_m = -2/n * np.dot(y-y_pred,x)\n",
    "                gradient_b = -2 * np.mean(y-y_pred)\n",
    "\n",
    "                m = m - (learning_rate * gradient_m)\n",
    "                b = b - (learning_rate * gradient_b)\n",
    "                self.coef_ = m\n",
    "                self.intercept_ = b\n",
    "\n",
    "                self.coef_ = self.coef_ * y_max/x_max\n",
    "                self.intercept_ = self.intercept_ *  y_max\n",
    "\n",
    "                if _%100000 == 0:\n",
    "                    print(f\"epoch: {_+1}, weight: {self.coef_}, bias: {self.intercept_}, MSE: {MSE}, leaning rate: {learning_rate}\")\n",
    "                    \n",
    "            except:\n",
    "                learning_rate *= 0.1\n",
    "                m = np.zeros(x.shape[1]) #weights\n",
    "                b = 0 #bias\n",
    "    \n",
    "    def predict(self,x):\n",
    "        y = np.dot(self.coef_,x.T) + self.intercept_\n",
    "        return y\n",
    "    \n",
    "    def score(self,x,y):\n",
    "        y_pred = self.predict(x)\n",
    "        y_true = np.array(y)\n",
    "        \n",
    "        u = ((y_true - y_pred)** 2).sum() #residual sum of squares\n",
    "        v = ((y_true - y_true.mean()) ** 2).sum() #total sum of squares\n",
    "        \n",
    "        R = (1 - u/v)\n",
    "        return R"
   ]
  },
  {
   "cell_type": "code",
   "execution_count": 13,
   "id": "379f344c",
   "metadata": {},
   "outputs": [],
   "source": [
    "model = LinearReg()"
   ]
  },
  {
   "cell_type": "code",
   "execution_count": 14,
   "id": "d5663ca0",
   "metadata": {},
   "outputs": [
    {
     "name": "stdout",
     "output_type": "stream",
     "text": [
      "epoch: 1, weight: [9.3154247], bias: 18920.137063404254, MSE: 0.27438025470080313, leaning rate: 0.5\n",
      "epoch: 100001, weight: [745.01481009], bias: -1465890.5714122935, MSE: 0.0091936273862518, leaning rate: 0.5\n",
      "epoch: 200001, weight: [820.01106374], bias: -1615361.5271894077, MSE: 0.008497255916540108, leaning rate: 0.5\n",
      "epoch: 300001, weight: [827.60863324], bias: -1630503.829910501, MSE: 0.008490109123675735, leaning rate: 0.5\n",
      "epoch: 400001, weight: [828.37831252], bias: -1632037.835834968, MSE: 0.008490035776833642, leaning rate: 0.5\n"
     ]
    }
   ],
   "source": [
    "model.fit(data['year'],data['income'])"
   ]
  },
  {
   "cell_type": "code",
   "execution_count": 15,
   "id": "0d19d151",
   "metadata": {},
   "outputs": [],
   "source": [
    "slope = model.predict(np.array(X).reshape((-1, 1)))"
   ]
  },
  {
   "cell_type": "markdown",
   "id": "dc9f1653",
   "metadata": {},
   "source": [
    "#### ploting the slope"
   ]
  },
  {
   "cell_type": "code",
   "execution_count": 16,
   "id": "47e678f1",
   "metadata": {
    "scrolled": true
   },
   "outputs": [
    {
     "data": {
      "text/plain": [
       "Text(0, 0.5, 'income')"
      ]
     },
     "execution_count": 16,
     "metadata": {},
     "output_type": "execute_result"
    },
    {
     "data": {
      "image/png": "[encoded data removed]",
      "text/plain": [
       "<Figure size 432x288 with 1 Axes>"
      ]
     },
     "metadata": {
      "needs_background": "light"
     },
     "output_type": "display_data"
    }
   ],
   "source": [
    "plt.scatter(X,y,marker =\"+\", color = 'b')\n",
    "plt.plot(X,slope,color = 'g',linewidth=2)\n",
    "plt.xlabel('year')\n",
    "plt.ylabel('income')"
   ]
  },
  {
   "cell_type": "code",
   "execution_count": 17,
   "id": "f76b2e31",
   "metadata": {},
   "outputs": [
    {
     "data": {
      "text/plain": [
       "0.8909169178567441"
      ]
     },
     "execution_count": 17,
     "metadata": {},
     "output_type": "execute_result"
    }
   ],
   "source": [
    "accuracy = model.score(np.array(data['year']).reshape(-1,1),data['income'])\n",
    "accuracy"
   ]
  },
  {
   "cell_type": "code",
   "execution_count": null,
   "id": "9550aa60",
   "metadata": {},
   "outputs": [],
   "source": []
  },
  {
   "cell_type": "markdown",
   "id": "03ba044b",
   "metadata": {},
   "source": [
    "## Comparing the algorithm i wrote with that of scikit learn(sklearn)"
   ]
  },
  {
   "cell_type": "markdown",
   "id": "2fe721da",
   "metadata": {},
   "source": [
    "### using sklearn"
   ]
  },
  {
   "cell_type": "code",
   "execution_count": 18,
   "id": "c64fa2f5",
   "metadata": {},
   "outputs": [
    {
     "name": "stderr",
     "output_type": "stream",
     "text": [
      "C:\\ProgramData\\Anaconda3\\lib\\site-packages\\scipy\\__init__.py:146: UserWarning: A NumPy version >=1.16.5 and <1.23.0 is required for this version of SciPy (detected version 1.24.1\n",
      "  warnings.warn(f\"A NumPy version >={np_minversion} and <{np_maxversion}\"\n"
     ]
    }
   ],
   "source": [
    "from sklearn.linear_model import LinearRegression"
   ]
  },
  {
   "cell_type": "code",
   "execution_count": 19,
   "id": "46635edc",
   "metadata": {},
   "outputs": [],
   "source": [
    "md = LinearRegression()"
   ]
  },
  {
   "cell_type": "code",
   "execution_count": 20,
   "id": "0ea59281",
   "metadata": {},
   "outputs": [
    {
     "data": {
      "text/plain": [
       "LinearRegression()"
      ]
     },
     "execution_count": 20,
     "metadata": {},
     "output_type": "execute_result"
    }
   ],
   "source": [
    "md.fit(np.array(data['year']).reshape(-1,1),data['income'])"
   ]
  },
  {
   "cell_type": "code",
   "execution_count": 21,
   "id": "8c930e20",
   "metadata": {},
   "outputs": [],
   "source": [
    "slope2 = md.predict(np.array(X).reshape((-1, 1)))"
   ]
  },
  {
   "cell_type": "markdown",
   "id": "04b2710d",
   "metadata": {},
   "source": [
    "#### ploting the slope"
   ]
  },
  {
   "cell_type": "code",
   "execution_count": 22,
   "id": "89d1bd88",
   "metadata": {},
   "outputs": [
    {
     "data": {
      "text/plain": [
       "Text(0, 0.5, 'income')"
      ]
     },
     "execution_count": 22,
     "metadata": {},
     "output_type": "execute_result"
    },
    {
     "data": {
      "image/png": "[encoded data removed]",
      "text/plain": [
       "<Figure size 432x288 with 1 Axes>"
      ]
     },
     "metadata": {
      "needs_background": "light"
     },
     "output_type": "display_data"
    }
   ],
   "source": [
    "plt.scatter(X,y,marker =\"+\", color = 'b')\n",
    "plt.plot(X,slope2,color = 'g',linewidth=2)\n",
    "plt.xlabel('year')\n",
    "plt.ylabel('income')"
   ]
  },
  {
   "cell_type": "code",
   "execution_count": 23,
   "id": "12de9ebc",
   "metadata": {},
   "outputs": [
    {
     "data": {
      "text/plain": [
       "0.890916917957032"
      ]
     },
     "execution_count": 23,
     "metadata": {},
     "output_type": "execute_result"
    }
   ],
   "source": [
    "accuracy = md.score(np.array(data['year']).reshape(-1,1),data['income'])\n",
    "accuracy"
   ]
  },
  {
   "cell_type": "markdown",
   "id": "be3d0dd1",
   "metadata": {},
   "source": [
    "If you noticed the algorithm i wrote and that of sklearn perform almost the same, if not the same(check the accuracies and the plots). The only issue is that mine is slow, especially the one without numpy."
   ]
  },
  {
   "cell_type": "markdown",
   "id": "1d09b78e",
   "metadata": {},
   "source": [
    "### So far I've used data with only one independent variable, now i'm going to test how my code works with multiply independent variable"
   ]
  },
  {
   "cell_type": "code",
   "execution_count": 24,
   "id": "efb7a5be",
   "metadata": {},
   "outputs": [
    {
     "data": {
      "text/html": [
       "<div>\n",
       "<style scoped>\n",
       "    .dataframe tbody tr th:only-of-type {\n",
       "        vertical-align: middle;\n",
       "    }\n",
       "\n",
       "    .dataframe tbody tr th {\n",
       "        vertical-align: top;\n",
       "    }\n",
       "\n",
       "    .dataframe thead th {\n",
       "        text-align: right;\n",
       "    }\n",
       "</style>\n",
       "<table border=\"1\" class=\"dataframe\">\n",
       "  <thead>\n",
       "    <tr style=\"text-align: right;\">\n",
       "      <th></th>\n",
       "      <th>No</th>\n",
       "      <th>X1 transaction date</th>\n",
       "      <th>X2 house age</th>\n",
       "      <th>X3 distance to the nearest MRT station</th>\n",
       "      <th>X4 number of convenience stores</th>\n",
       "      <th>X5 latitude</th>\n",
       "      <th>X6 longitude</th>\n",
       "      <th>Y house price of unit area</th>\n",
       "    </tr>\n",
       "  </thead>\n",
       "  <tbody>\n",
       "    <tr>\n",
       "      <th>0</th>\n",
       "      <td>1</td>\n",
       "      <td>2012.917</td>\n",
       "      <td>32.0</td>\n",
       "      <td>84.87882</td>\n",
       "      <td>10</td>\n",
       "      <td>24.98298</td>\n",
       "      <td>121.54024</td>\n",
       "      <td>37.9</td>\n",
       "    </tr>\n",
       "    <tr>\n",
       "      <th>1</th>\n",
       "      <td>2</td>\n",
       "      <td>2012.917</td>\n",
       "      <td>19.5</td>\n",
       "      <td>306.59470</td>\n",
       "      <td>9</td>\n",
       "      <td>24.98034</td>\n",
       "      <td>121.53951</td>\n",
       "      <td>42.2</td>\n",
       "    </tr>\n",
       "    <tr>\n",
       "      <th>2</th>\n",
       "      <td>3</td>\n",
       "      <td>2013.583</td>\n",
       "      <td>13.3</td>\n",
       "      <td>561.98450</td>\n",
       "      <td>5</td>\n",
       "      <td>24.98746</td>\n",
       "      <td>121.54391</td>\n",
       "      <td>47.3</td>\n",
       "    </tr>\n",
       "    <tr>\n",
       "      <th>3</th>\n",
       "      <td>4</td>\n",
       "      <td>2013.500</td>\n",
       "      <td>13.3</td>\n",
       "      <td>561.98450</td>\n",
       "      <td>5</td>\n",
       "      <td>24.98746</td>\n",
       "      <td>121.54391</td>\n",
       "      <td>54.8</td>\n",
       "    </tr>\n",
       "    <tr>\n",
       "      <th>4</th>\n",
       "      <td>5</td>\n",
       "      <td>2012.833</td>\n",
       "      <td>5.0</td>\n",
       "      <td>390.56840</td>\n",
       "      <td>5</td>\n",
       "      <td>24.97937</td>\n",
       "      <td>121.54245</td>\n",
       "      <td>43.1</td>\n",
       "    </tr>\n",
       "  </tbody>\n",
       "</table>\n",
       "</div>"
      ],
      "text/plain": [
       "   No  X1 transaction date  X2 house age  \\\n",
       "0   1             2012.917          32.0   \n",
       "1   2             2012.917          19.5   \n",
       "2   3             2013.583          13.3   \n",
       "3   4             2013.500          13.3   \n",
       "4   5             2012.833           5.0   \n",
       "\n",
       "   X3 distance to the nearest MRT station  X4 number of convenience stores  \\\n",
       "0                                84.87882                               10   \n",
       "1                               306.59470                                9   \n",
       "2                               561.98450                                5   \n",
       "3                               561.98450                                5   \n",
       "4                               390.56840                                5   \n",
       "\n",
       "   X5 latitude  X6 longitude  Y house price of unit area  \n",
       "0     24.98298     121.54024                        37.9  \n",
       "1     24.98034     121.53951                        42.2  \n",
       "2     24.98746     121.54391                        47.3  \n",
       "3     24.98746     121.54391                        54.8  \n",
       "4     24.97937     121.54245                        43.1  "
      ]
     },
     "execution_count": 24,
     "metadata": {},
     "output_type": "execute_result"
    }
   ],
   "source": [
    "data2 = pd.read_csv('Real estate.csv')\n",
    "data2.head()"
   ]
  },
  {
   "cell_type": "markdown",
   "id": "277a47f2",
   "metadata": {},
   "source": [
    "###### checking the size of the data"
   ]
  },
  {
   "cell_type": "code",
   "execution_count": 25,
   "id": "076239be",
   "metadata": {},
   "outputs": [
    {
     "data": {
      "text/plain": [
       "414"
      ]
     },
     "execution_count": 25,
     "metadata": {},
     "output_type": "execute_result"
    }
   ],
   "source": [
    "len(data2)"
   ]
  },
  {
   "cell_type": "markdown",
   "id": "b07de59c",
   "metadata": {},
   "source": [
    "###### Droping the features that are not important"
   ]
  },
  {
   "cell_type": "code",
   "execution_count": 26,
   "id": "a0cc57e7",
   "metadata": {},
   "outputs": [],
   "source": [
    "data2.drop([\"No\",\"X1 transaction date\",\"X5 latitude\",\"X6 longitude\"], axis = 1, inplace= True)"
   ]
  },
  {
   "cell_type": "code",
   "execution_count": 27,
   "id": "6fe09f60",
   "metadata": {},
   "outputs": [
    {
     "data": {
      "text/html": [
       "<div>\n",
       "<style scoped>\n",
       "    .dataframe tbody tr th:only-of-type {\n",
       "        vertical-align: middle;\n",
       "    }\n",
       "\n",
       "    .dataframe tbody tr th {\n",
       "        vertical-align: top;\n",
       "    }\n",
       "\n",
       "    .dataframe thead th {\n",
       "        text-align: right;\n",
       "    }\n",
       "</style>\n",
       "<table border=\"1\" class=\"dataframe\">\n",
       "  <thead>\n",
       "    <tr style=\"text-align: right;\">\n",
       "      <th></th>\n",
       "      <th>X2 house age</th>\n",
       "      <th>X3 distance to the nearest MRT station</th>\n",
       "      <th>X4 number of convenience stores</th>\n",
       "      <th>Y house price of unit area</th>\n",
       "    </tr>\n",
       "  </thead>\n",
       "  <tbody>\n",
       "    <tr>\n",
       "      <th>0</th>\n",
       "      <td>32.0</td>\n",
       "      <td>84.87882</td>\n",
       "      <td>10</td>\n",
       "      <td>37.9</td>\n",
       "    </tr>\n",
       "    <tr>\n",
       "      <th>1</th>\n",
       "      <td>19.5</td>\n",
       "      <td>306.59470</td>\n",
       "      <td>9</td>\n",
       "      <td>42.2</td>\n",
       "    </tr>\n",
       "    <tr>\n",
       "      <th>2</th>\n",
       "      <td>13.3</td>\n",
       "      <td>561.98450</td>\n",
       "      <td>5</td>\n",
       "      <td>47.3</td>\n",
       "    </tr>\n",
       "    <tr>\n",
       "      <th>3</th>\n",
       "      <td>13.3</td>\n",
       "      <td>561.98450</td>\n",
       "      <td>5</td>\n",
       "      <td>54.8</td>\n",
       "    </tr>\n",
       "    <tr>\n",
       "      <th>4</th>\n",
       "      <td>5.0</td>\n",
       "      <td>390.56840</td>\n",
       "      <td>5</td>\n",
       "      <td>43.1</td>\n",
       "    </tr>\n",
       "    <tr>\n",
       "      <th>...</th>\n",
       "      <td>...</td>\n",
       "      <td>...</td>\n",
       "      <td>...</td>\n",
       "      <td>...</td>\n",
       "    </tr>\n",
       "    <tr>\n",
       "      <th>409</th>\n",
       "      <td>13.7</td>\n",
       "      <td>4082.01500</td>\n",
       "      <td>0</td>\n",
       "      <td>15.4</td>\n",
       "    </tr>\n",
       "    <tr>\n",
       "      <th>410</th>\n",
       "      <td>5.6</td>\n",
       "      <td>90.45606</td>\n",
       "      <td>9</td>\n",
       "      <td>50.0</td>\n",
       "    </tr>\n",
       "    <tr>\n",
       "      <th>411</th>\n",
       "      <td>18.8</td>\n",
       "      <td>390.96960</td>\n",
       "      <td>7</td>\n",
       "      <td>40.6</td>\n",
       "    </tr>\n",
       "    <tr>\n",
       "      <th>412</th>\n",
       "      <td>8.1</td>\n",
       "      <td>104.81010</td>\n",
       "      <td>5</td>\n",
       "      <td>52.5</td>\n",
       "    </tr>\n",
       "    <tr>\n",
       "      <th>413</th>\n",
       "      <td>6.5</td>\n",
       "      <td>90.45606</td>\n",
       "      <td>9</td>\n",
       "      <td>63.9</td>\n",
       "    </tr>\n",
       "  </tbody>\n",
       "</table>\n",
       "<p>414 rows × 4 columns</p>\n",
       "</div>"
      ],
      "text/plain": [
       "     X2 house age  X3 distance to the nearest MRT station  \\\n",
       "0            32.0                                84.87882   \n",
       "1            19.5                               306.59470   \n",
       "2            13.3                               561.98450   \n",
       "3            13.3                               561.98450   \n",
       "4             5.0                               390.56840   \n",
       "..            ...                                     ...   \n",
       "409          13.7                              4082.01500   \n",
       "410           5.6                                90.45606   \n",
       "411          18.8                               390.96960   \n",
       "412           8.1                               104.81010   \n",
       "413           6.5                                90.45606   \n",
       "\n",
       "     X4 number of convenience stores  Y house price of unit area  \n",
       "0                                 10                        37.9  \n",
       "1                                  9                        42.2  \n",
       "2                                  5                        47.3  \n",
       "3                                  5                        54.8  \n",
       "4                                  5                        43.1  \n",
       "..                               ...                         ...  \n",
       "409                                0                        15.4  \n",
       "410                                9                        50.0  \n",
       "411                                7                        40.6  \n",
       "412                                5                        52.5  \n",
       "413                                9                        63.9  \n",
       "\n",
       "[414 rows x 4 columns]"
      ]
     },
     "execution_count": 27,
     "metadata": {},
     "output_type": "execute_result"
    }
   ],
   "source": [
    "data2"
   ]
  },
  {
   "cell_type": "markdown",
   "id": "14c79bd9",
   "metadata": {},
   "source": [
    "###### Droping all the NaN values, if any"
   ]
  },
  {
   "cell_type": "code",
   "execution_count": 28,
   "id": "72d88e9c",
   "metadata": {
    "scrolled": true
   },
   "outputs": [],
   "source": [
    "data2.dropna(inplace= True)"
   ]
  },
  {
   "cell_type": "markdown",
   "id": "a6127533",
   "metadata": {},
   "source": [
    "###### checking to see if each colum are of the right datatype"
   ]
  },
  {
   "cell_type": "code",
   "execution_count": 29,
   "id": "92b98559",
   "metadata": {},
   "outputs": [
    {
     "data": {
      "text/plain": [
       "dtype('float64')"
      ]
     },
     "execution_count": 29,
     "metadata": {},
     "output_type": "execute_result"
    }
   ],
   "source": [
    "data2[\"X2 house age\"].dtype"
   ]
  },
  {
   "cell_type": "code",
   "execution_count": 30,
   "id": "c2c07f17",
   "metadata": {},
   "outputs": [
    {
     "data": {
      "text/plain": [
       "dtype('float64')"
      ]
     },
     "execution_count": 30,
     "metadata": {},
     "output_type": "execute_result"
    }
   ],
   "source": [
    "data2[\"X3 distance to the nearest MRT station\"].dtype"
   ]
  },
  {
   "cell_type": "code",
   "execution_count": 31,
   "id": "db096d4a",
   "metadata": {},
   "outputs": [
    {
     "data": {
      "text/plain": [
       "dtype('int64')"
      ]
     },
     "execution_count": 31,
     "metadata": {},
     "output_type": "execute_result"
    }
   ],
   "source": [
    "data2[\"X4 number of convenience stores\"].dtype"
   ]
  },
  {
   "cell_type": "code",
   "execution_count": 32,
   "id": "37503035",
   "metadata": {},
   "outputs": [
    {
     "data": {
      "text/plain": [
       "dtype('float64')"
      ]
     },
     "execution_count": 32,
     "metadata": {},
     "output_type": "execute_result"
    }
   ],
   "source": [
    "data2[\"Y house price of unit area\"].dtype"
   ]
  },
  {
   "cell_type": "code",
   "execution_count": null,
   "id": "c8dac1fc",
   "metadata": {},
   "outputs": [],
   "source": []
  },
  {
   "cell_type": "markdown",
   "id": "767a5910",
   "metadata": {},
   "source": [
    "### Training and predicting"
   ]
  },
  {
   "cell_type": "markdown",
   "id": "009da4ee",
   "metadata": {},
   "source": [
    "##### without numpy (plain pyhthon)"
   ]
  },
  {
   "cell_type": "code",
   "execution_count": 33,
   "id": "01bb5341",
   "metadata": {},
   "outputs": [],
   "source": [
    "model0 = model1 = LinearRegress()"
   ]
  },
  {
   "cell_type": "code",
   "execution_count": 34,
   "id": "07612ed8",
   "metadata": {},
   "outputs": [],
   "source": [
    "X = list([data2[\"X2 house age\"],data2[\"X3 distance to the nearest MRT station\"],data2[\"X4 number of convenience stores\"]])\n",
    "y = list(data2[\"Y house price of unit area\"])"
   ]
  },
  {
   "cell_type": "code",
   "execution_count": 35,
   "id": "c717c6fe",
   "metadata": {},
   "outputs": [
    {
     "name": "stdout",
     "output_type": "stream",
     "text": [
      "epoch: 1, weight: [0.33369036909719435, 0.0007038049283502836, 1.7832850241545894], bias: 37.98019323671498, MSE: 0.1178585348038219, leaning rate: 0.5\n",
      "epoch: 100001, weight: [-0.2528558265877558, -0.005379129623944063, 1.2974424761019436], bias: 42.977286206064015, MSE: 0.0061392996956206375, leaning rate: 0.5\n",
      "epoch: 200001, weight: [-0.2528558265877558, -0.005379129623944063, 1.2974424761019436], bias: 42.977286206064015, MSE: 0.0061392996956206375, leaning rate: 0.5\n",
      "epoch: 300001, weight: [-0.2528558265877558, -0.005379129623944063, 1.2974424761019436], bias: 42.977286206064015, MSE: 0.0061392996956206375, leaning rate: 0.5\n",
      "epoch: 400001, weight: [-0.2528558265877558, -0.005379129623944063, 1.2974424761019436], bias: 42.977286206064015, MSE: 0.0061392996956206375, leaning rate: 0.5\n",
      "epoch: 500001, weight: [-0.2528558265877558, -0.005379129623944063, 1.2974424761019436], bias: 42.977286206064015, MSE: 0.0061392996956206375, leaning rate: 0.5\n"
     ]
    }
   ],
   "source": [
    "model0.fit(X,y)"
   ]
  },
  {
   "cell_type": "code",
   "execution_count": 36,
   "id": "47c1144e",
   "metadata": {},
   "outputs": [
    {
     "data": {
      "text/plain": [
       "0.5410632980005718"
      ]
     },
     "execution_count": 36,
     "metadata": {},
     "output_type": "execute_result"
    }
   ],
   "source": [
    "accuracy = model0.score(X,y)\n",
    "accuracy "
   ]
  },
  {
   "cell_type": "code",
   "execution_count": null,
   "id": "13249178",
   "metadata": {},
   "outputs": [],
   "source": []
  },
  {
   "cell_type": "markdown",
   "id": "3b0befa0",
   "metadata": {},
   "source": [
    "##### using numpy"
   ]
  },
  {
   "cell_type": "code",
   "execution_count": 37,
   "id": "57bd52b8",
   "metadata": {},
   "outputs": [],
   "source": [
    "model1 = LinearReg()"
   ]
  },
  {
   "cell_type": "code",
   "execution_count": 38,
   "id": "a8b655ec",
   "metadata": {},
   "outputs": [],
   "source": [
    "X1 = data2.drop('Y house price of unit area', axis = 1)\n",
    "y1 = data2['Y house price of unit area']"
   ]
  },
  {
   "cell_type": "code",
   "execution_count": 39,
   "id": "8ba32aa4",
   "metadata": {},
   "outputs": [
    {
     "name": "stdout",
     "output_type": "stream",
     "text": [
      "epoch: 1, weight: [3.33690369e-01 7.03804928e-04 1.78328502e+00], bias: 37.980193236714975, MSE: 0.11785853480382187, leaning rate: 0.5\n",
      "epoch: 100001, weight: [-0.25285583 -0.00537913  1.29744248], bias: 42.977286206064015, MSE: 0.006139299695620637, leaning rate: 0.5\n",
      "epoch: 200001, weight: [-0.25285583 -0.00537913  1.29744248], bias: 42.977286206064015, MSE: 0.006139299695620637, leaning rate: 0.5\n",
      "epoch: 300001, weight: [-0.25285583 -0.00537913  1.29744248], bias: 42.977286206064015, MSE: 0.006139299695620637, leaning rate: 0.5\n",
      "epoch: 400001, weight: [-0.25285583 -0.00537913  1.29744248], bias: 42.977286206064015, MSE: 0.006139299695620637, leaning rate: 0.5\n"
     ]
    }
   ],
   "source": [
    "model1.fit(X1,y1)"
   ]
  },
  {
   "cell_type": "code",
   "execution_count": 40,
   "id": "0659d5b1",
   "metadata": {},
   "outputs": [
    {
     "data": {
      "text/plain": [
       "0.5410632980005723"
      ]
     },
     "execution_count": 40,
     "metadata": {},
     "output_type": "execute_result"
    }
   ],
   "source": [
    "accuracy = model1.score(X1,y1)\n",
    "accuracy"
   ]
  },
  {
   "cell_type": "code",
   "execution_count": null,
   "id": "2da89922",
   "metadata": {},
   "outputs": [],
   "source": []
  },
  {
   "cell_type": "markdown",
   "id": "7fbc371d",
   "metadata": {},
   "source": [
    "#### comparing with sklearn"
   ]
  },
  {
   "cell_type": "code",
   "execution_count": 41,
   "id": "86ade6c6",
   "metadata": {},
   "outputs": [],
   "source": [
    "md = LinearRegression()"
   ]
  },
  {
   "cell_type": "code",
   "execution_count": 42,
   "id": "488f9ab2",
   "metadata": {},
   "outputs": [],
   "source": [
    "X2 = data2.drop('Y house price of unit area', axis = 1)\n",
    "y2 = data2['Y house price of unit area']"
   ]
  },
  {
   "cell_type": "code",
   "execution_count": 43,
   "id": "5c58f6bf",
   "metadata": {},
   "outputs": [
    {
     "data": {
      "text/plain": [
       "LinearRegression()"
      ]
     },
     "execution_count": 43,
     "metadata": {},
     "output_type": "execute_result"
    }
   ],
   "source": [
    "md.fit(X2,y2)"
   ]
  },
  {
   "cell_type": "code",
   "execution_count": 44,
   "id": "868dd799",
   "metadata": {},
   "outputs": [
    {
     "data": {
      "text/plain": [
       "0.5410632980005723"
      ]
     },
     "execution_count": 44,
     "metadata": {},
     "output_type": "execute_result"
    }
   ],
   "source": [
    "accuracy = md.score(X2,y2)\n",
    "accuracy"
   ]
  },
  {
   "cell_type": "markdown",
   "id": "259ac2b1",
   "metadata": {},
   "source": [
    "If you noticed the algorithm i wrote and that of sklearn perform almost the same, if not the same(check the accuracies). The only issue is that mine is slow, especially the one without numpy."
   ]
  },
  {
   "cell_type": "code",
   "execution_count": null,
   "id": "5b25e5ea",
   "metadata": {},
   "outputs": [],
   "source": []
  },
  {
   "cell_type": "markdown",
   "id": "2ce8ddbc",
   "metadata": {},
   "source": [
    "# Thank you\n",
    "## Feel free to run the codes on your own and play with it.\n",
    "### Watch out for more machine learning algorithms from scratch.\n",
    "\n",
    "visit my website: [ALAINENGIYA](www.anonymousasquare.code.blog)\n",
    "\n",
    "X: [anonymousAsquare(byteBard)](https://twitter.com/AlainengiyaG)\n",
    "\n",
    "Instagram: [anonymousasquare](https://www.instagram.com/anonymousasquare/)\n",
    "\n",
    "LinkedIn: [George (Junior) Alainengiya](linkedin.com/in/george-alainengiya-5b44b5251)\n",
    "\n",
    "email1: [alainengiyaalainengiya@gmail.com](alainengiyaalainengiya@gmail.com)\n",
    "\n",
    "email2: [anonymousAsquare@gmail.com](anonymousAsquare@gmail.com)\n",
    "\n",
    "WhatsApp: [+2348073279585](https://wa.me/qr/NNSNXPBJIBV5H1)\n"
   ]
  },
  {
   "cell_type": "code",
   "execution_count": null,
   "id": "27fc3914",
   "metadata": {},
   "outputs": [],
   "source": []
  }
 ],
 "metadata": {
  "kernelspec": {
   "display_name": "Python 3 (ipykernel)",
   "language": "python",
   "name": "python3"
  },
  "language_info": {
   "codemirror_mode": {
    "name": "ipython",
    "version": 3
   },
   "file_extension": ".py",
   "mimetype": "text/x-python",
   "name": "python",
   "nbconvert_exporter": "python",
   "pygments_lexer": "ipython3",
   "version": "3.9.7"
  }
 },
 "nbformat": 4,
 "nbformat_minor": 5
}
